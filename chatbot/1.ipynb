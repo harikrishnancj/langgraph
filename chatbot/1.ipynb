{
 "cells": [
  {
   "cell_type": "code",
   "execution_count": 11,
   "id": "dd7b9b41",
   "metadata": {},
   "outputs": [],
   "source": [
    "from langgraph.graph import StateGraph, START, END\n",
    "from langchain_core.messages import HumanMessage, BaseMessage\n",
    "from typing import TypedDict, Annotated\n",
    "from langchain_huggingface import ChatHuggingFace, HuggingFaceEndpoint\n",
    "from langgraph.graph.message import add_messages\n",
    "from dotenv import load_dotenv\n",
    "load_dotenv()\n",
    "from langgraph.checkpoint.memory import MemorySaver\n",
    "\n",
    "class State(TypedDict):\n",
    "    messages: Annotated[list[BaseMessage], add_messages]\n",
    "\n",
    "llm = HuggingFaceEndpoint(\n",
    "    repo_id=\"mistralai/Mixtral-8x7B-Instruct-v0.1\",  # or another from above\n",
    "    task=\"text-generation\"\n",
    ")\n",
    "\n",
    "model = ChatHuggingFace(llm=llm)\n",
    "\n",
    "def chat_node(state: State):\n",
    "    messages = state[\"messages\"]\n",
    "    response = model.invoke(messages)\n",
    "    return {\"messages\": [response]}  # wrapped in list to append properly\n",
    "\n",
    "graph = StateGraph(State)\n",
    "graph.add_node(\"chat_node\", chat_node)\n",
    "\n",
    "graph.add_edge(START, \"chat_node\")\n",
    "graph.add_edge(\"chat_node\", END)\n",
    "check_point=MemorySaver()\n",
    "app = graph.compile(checkpointer=check_point)"
   ]
  },
  {
   "cell_type": "code",
   "execution_count": 12,
   "id": "3d33ebda",
   "metadata": {},
   "outputs": [
    {
     "name": "stdout",
     "output_type": "stream",
     "text": [
      "user where delhi stitutaed\n",
      "AI:  Delhi, the capital city of India, is home to many prestigious educational institutions. Here are some of the well-known universities and colleges in Delhi:\n",
      "\n",
      "1. University of Delhi: It is a central university located in New Delhi and is one of the largest universities in India with 86 departments, 77 colleges, and 5 other recognized institutions spread across the city.\n",
      "2. Jawaharlal Nehru University (JNU): It is a public central university located in New Delhi and is known for its high-quality research and teaching in various fields.\n",
      "3. Indian Institute of Technology (IIT) Delhi: It is one of the premier engineering institutions in India and is located in Hauz Khas, South Delhi.\n",
      "4. All India Institute of Medical Sciences (AIIMS): It is a public medical college and medical research public university based in New Delhi.\n",
      "5. Delhi Technological University (DTU): It is a public engineering university located in Delhi and is known for its undergraduate and postgraduate programs in various fields of engineering.\n",
      "6. Jamia Millia Islamia: It is a public central university located in New Delhi and offers various undergraduate, postgraduate, and research programs in various fields such as engineering, humanities, law, and architecture.\n",
      "7. Guru Gobind Singh Indraprastha University (GGSIPU): It is a public university located in Delhi and offers various undergraduate, postgraduate, and doctoral programs in various fields such as engineering, management, law, and medicine.\n",
      "8. National Law University (NLU) Delhi: It is a public law university located in Delhi and is known for its high-quality legal education.\n",
      "\n",
      "These are just a few of the many educational institutions in Delhi. The city has a rich educational heritage and is home to several other reputed colleges, universities, and research institutions.\n",
      "user ho much sitance from there to agra\n",
      "AI:  The distance from Delhi to Agra is approximately 206 kilometers (128 miles) by road. The driving time between the two cities is around 3-4 hours, depending on traffic and the route taken.\n",
      "\n",
      "There are several options to travel from Delhi to Agra, including by road, train, or air. The most popular way to travel between the two cities is by road, as there are several well-maintained highways connecting Delhi and Agra. The Taj Expressway, which is a six-lane controlled-access highway, is the fastest and most convenient route to travel between the two cities by car or bus.\n",
      "\n",
      "Alternatively, you can also travel between Delhi and Agra by train, with several trains connecting the two cities throughout the day. The journey by train takes around 2-3 hours, depending on the type of train and the schedule. The nearest railway station to the Taj Mahal in Agra is the Agra Cantonment station, which is well-connected to Delhi by several trains.\n",
      "\n",
      "If you prefer to travel by air, there are numerous flights between Delhi and Agra, operated by various airlines. The flight duration is around 45-60 minutes, and the Agra Airport is located around 13 kilometers (8 miles) from the city center. However, the frequency of flights between Delhi and Agra may be limited, so it is advisable to check the schedules in advance.\n",
      "user stop\n"
     ]
    }
   ],
   "source": [
    "thread_id = '1'\n",
    "\n",
    "while True:\n",
    "    user = input(\"Type here: \")\n",
    "    print(\"user\",user)\n",
    "    if user.strip().lower() in ['end', 'stop']:\n",
    "        break\n",
    "\n",
    "    # Thread-based config for LangGraph\n",
    "    conf = {'configurable': {'thread_id': thread_id}}\n",
    "\n",
    "    # Send user message to chatbot\n",
    "    response = app.invoke({'messages': [HumanMessage(content=user)]}, config=conf)\n",
    "\n",
    "    # Print last assistant reply\n",
    "    print(\"AI:\", response['messages'][-1].content)"
   ]
  }
 ],
 "metadata": {
  "kernelspec": {
   "display_name": "myvenv",
   "language": "python",
   "name": "python3"
  },
  "language_info": {
   "codemirror_mode": {
    "name": "ipython",
    "version": 3
   },
   "file_extension": ".py",
   "mimetype": "text/x-python",
   "name": "python",
   "nbconvert_exporter": "python",
   "pygments_lexer": "ipython3",
   "version": "3.9.5"
  }
 },
 "nbformat": 4,
 "nbformat_minor": 5
}
