{
 "cells": [
  {
   "cell_type": "code",
   "execution_count": 29,
   "id": "570596c9",
   "metadata": {},
   "outputs": [],
   "source": [
    "from langgraph.graph import StateGraph, START, END\n",
    "from pydantic import BaseModel\n",
    "from typing import Optional"
   ]
  },
  {
   "cell_type": "code",
   "execution_count": 30,
   "id": "889c1591",
   "metadata": {},
   "outputs": [],
   "source": [
    "from typing import Optional\n",
    "\n",
    "class bmi(BaseModel):\n",
    "    weight_kg: float\n",
    "    height_m: float\n",
    "    bmi: Optional[float] = None"
   ]
  },
  {
   "cell_type": "code",
   "execution_count": 31,
   "id": "d1a2aac9",
   "metadata": {},
   "outputs": [],
   "source": [
    "def calcu_bmi(state: bmi) -> bmi:\n",
    "    weight = state.weight_kg\n",
    "    height = state.height_m\n",
    "\n",
    "    bmi = weight / (height ** 2)\n",
    "    state.bmi = round(bmi, 2)\n",
    "    return state"
   ]
  },
  {
   "cell_type": "code",
   "execution_count": 32,
   "id": "d041536c",
   "metadata": {},
   "outputs": [],
   "source": [
    "#graph\n",
    "\n",
    "graph=StateGraph(bmi)\n",
    "\n",
    "#add node to garph\n",
    "graph.add_node(\"bmi\",calcu_bmi)\n",
    "#add edge\n",
    "graph.add_edge(START,'bmi')\n",
    "graph.add_edge('bmi',END)\n",
    "\n",
    "#complie\n",
    "workflow=graph.compile()"
   ]
  },
  {
   "cell_type": "code",
   "execution_count": 33,
   "id": "0ed8035c",
   "metadata": {},
   "outputs": [
    {
     "name": "stdout",
     "output_type": "stream",
     "text": [
      "{'weight_kg': 80.0, 'height_m': 1.73, 'bmi': 26.73}\n"
     ]
    }
   ],
   "source": [
    "# execute the graph\n",
    "intial_state = {'weight_kg':80, 'height_m':1.73}\n",
    "\n",
    "final_state = workflow.invoke(intial_state)\n",
    "\n",
    "print(final_state)"
   ]
  },
  {
   "cell_type": "code",
   "execution_count": 34,
   "id": "aa0148d2",
   "metadata": {},
   "outputs": [
    {
     "data": {
      "image/png": "[encoded data removed]",
      "text/plain": [
       "<IPython.core.display.Image object>"
      ]
     },
     "execution_count": 34,
     "metadata": {},
     "output_type": "execute_result"
    }
   ],
   "source": [
    "from IPython.display import Image\n",
    "Image(workflow.get_graph().draw_mermaid_png())"
   ]
  },
  {
   "cell_type": "code",
   "execution_count": null,
   "id": "9c489304",
   "metadata": {},
   "outputs": [],
   "source": []
  }
 ],
 "metadata": {
  "kernelspec": {
   "display_name": "myvenv",
   "language": "python",
   "name": "python3"
  },
  "language_info": {
   "codemirror_mode": {
    "name": "ipython",
    "version": 3
   },
   "file_extension": ".py",
   "mimetype": "text/x-python",
   "name": "python",
   "nbconvert_exporter": "python",
   "pygments_lexer": "ipython3",
   "version": "3.9.5"
  }
 },
 "nbformat": 4,
 "nbformat_minor": 5
}
